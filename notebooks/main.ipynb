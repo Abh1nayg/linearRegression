{
 "cells": [
  {
   "cell_type": "markdown",
   "id": "99c00076",
   "metadata": {},
   "source": [
    "# Linear Regression\n",
    "### Using a simple relation to get the equation \n",
    "#### `y=a+bx`\n"
   ]
  },
  {
   "cell_type": "code",
   "execution_count": 1,
   "id": "a179f134",
   "metadata": {},
   "outputs": [],
   "source": [
    "# Import libraries\n",
    "import numpy as np\n",
    "import pandas as pd "
   ]
  },
  {
   "cell_type": "code",
   "execution_count": 2,
   "id": "27b6fa87",
   "metadata": {},
   "outputs": [],
   "source": [
    "# Load data - CHANGE THESE VARIABLES FOR YOUR DATASET\n",
    "filepath = \"\" # Add your data file path\n",
    "x_column = \"\"  # Independent variable column name\n",
    "y_column = \"\"      # Dependent variable column name"
   ]
  },
  {
   "cell_type": "code",
   "execution_count": null,
   "id": "30470147",
   "metadata": {},
   "outputs": [],
   "source": [
    "# Read data\n",
    "data = pd.read_csv(filepath)\n",
    "print(\"Data loaded successfully!\")\n",
    "print(f\"Dataset shape: {data.shape}\")\n",
    "print(\"\\nFirst few rows:\")\n",
    "print(data.head())"
   ]
  },
  {
   "cell_type": "code",
   "execution_count": null,
   "id": "4f3a463f",
   "metadata": {},
   "outputs": [],
   "source": [
    "# Extract features\n",
    "X = data[x_column]\n",
    "y = data[y_column]\n",
    "\n",
    "print(f\"\\nPerforming linear regression: {y_column} = a + b*{x_column}\")"
   ]
  },
  {
   "cell_type": "markdown",
   "id": "aa5d257f",
   "metadata": {},
   "source": [
    "#### b=(Summation XY)/(Summation XX)\n",
    "#### where summation xy = summation xy - (1/n)*summation x * summation y \n",
    "#### and summation xx = summation x**2 - ((summation x)**2)/n \n"
   ]
  },
  {
   "cell_type": "code",
   "execution_count": null,
   "id": "36d3f1f3",
   "metadata": {},
   "outputs": [],
   "source": [
    "# Count (n)\n",
    "n = len(X)\n",
    "\n",
    "# Summation X\n",
    "sumX = np.sum(X)\n",
    "\n",
    "# Summation Y\n",
    "sumY = np.sum(y)\n",
    "\n",
    "# X^2\n",
    "sumXX = np.sum(X**2)\n",
    "\n",
    "# Summation XY\n",
    "sumXY = np.sum(X*y)\n",
    "\n",
    "# For summation XX\n",
    "Sxx = sumXX - (sumX**2/n)\n",
    "Sxy = sumXY - (sumX*sumY)/n"
   ]
  },
  {
   "cell_type": "code",
   "execution_count": null,
   "id": "1ca38d7e",
   "metadata": {},
   "outputs": [],
   "source": [
    "# Calculate coefficients\n",
    "b = Sxy/Sxx\n",
    "a = np.mean(y) - b*np.mean(X)\n",
    "\n",
    "print(f\"\\nResults:\")\n",
    "print(f\"Number of observations: {n}\")\n",
    "print(f\"Equation of line: y = {a:.2f} + {b:.2f}x\")"
   ]
  },
  {
   "cell_type": "code",
   "execution_count": null,
   "id": "44c91aa5",
   "metadata": {},
   "outputs": [],
   "source": [
    "# Predictions\n",
    "yPred = a + b*X"
   ]
  },
  {
   "cell_type": "code",
   "execution_count": null,
   "id": "a4765671",
   "metadata": {},
   "outputs": [],
   "source": [
    "# Model evaluation\n",
    "ss_res = np.sum((y - yPred)**2)\n",
    "ss_tot = np.sum((y - np.mean(y))**2)\n",
    "r_squared = 1 - (ss_res/ss_tot)\n",
    "\n",
    "mse = np.mean((y - yPred)**2)\n",
    "rmse = np.sqrt(mse)\n",
    "mae = np.mean(np.abs(y - yPred))\n",
    "\n",
    "print(f\"\\nModel Performance:\")\n",
    "print(f\"R-squared: {r_squared:.4f}\")\n",
    "print(f\"RMSE: {rmse:.2f}\")\n",
    "print(f\"MAE: {mae:.2f}\")"
   ]
  }
 ],
 "metadata": {
  "kernelspec": {
   "display_name": ".venv",
   "language": "python",
   "name": "python3"
  },
  "language_info": {
   "codemirror_mode": {
    "name": "ipython",
    "version": 3
   },
   "file_extension": ".py",
   "mimetype": "text/x-python",
   "name": "python",
   "nbconvert_exporter": "python",
   "pygments_lexer": "ipython3",
   "version": "3.11.9"
  }
 },
 "nbformat": 4,
 "nbformat_minor": 5
}
