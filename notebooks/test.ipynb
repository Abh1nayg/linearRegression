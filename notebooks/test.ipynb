{
 "cells": [
  {
   "cell_type": "markdown",
   "id": "17fa1c36",
   "metadata": {},
   "source": [
    "# Linear Regression\n",
    "### Using a simple relation to get the equation \n",
    "#### `y=a+bx`"
   ]
  },
  {
   "cell_type": "code",
   "execution_count": null,
   "id": "2fa14517",
   "metadata": {},
   "outputs": [],
   "source": [
    "#import libraries\n",
    "import numpy as np"
   ]
  },
  {
   "cell_type": "code",
   "execution_count": null,
   "id": "0a6f14d2",
   "metadata": {},
   "outputs": [],
   "source": [
    "X=np.array([])"
   ]
  }
 ],
 "metadata": {
  "kernelspec": {
   "display_name": ".venv",
   "language": "python",
   "name": "python3"
  },
  "language_info": {
   "name": "python",
   "version": "3.11.9"
  }
 },
 "nbformat": 4,
 "nbformat_minor": 5
}
